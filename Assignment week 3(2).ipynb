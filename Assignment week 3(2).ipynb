{
 "cells": [
  {
   "cell_type": "code",
   "execution_count": 7,
   "id": "beb8a413-385b-4836-a066-f325d4d1b451",
   "metadata": {},
   "outputs": [],
   "source": [
    "#1.>"
   ]
  },
  {
   "cell_type": "code",
   "execution_count": 11,
   "id": "16a13506-d3bc-486b-8e32-66fc0f687dac",
   "metadata": {},
   "outputs": [],
   "source": [
    "def List(n):\n",
    "    l=[]\n",
    "    for i in range(1,n+1):\n",
    "        l.append(i)\n",
    "    return l"
   ]
  },
  {
   "cell_type": "code",
   "execution_count": 12,
   "id": "2ea00606-fb79-4a7c-825f-34c1a2c04f06",
   "metadata": {},
   "outputs": [
    {
     "data": {
      "text/plain": [
       "[1, 4, 9, 16, 25, 36, 49, 64, 81, 100]"
      ]
     },
     "execution_count": 12,
     "metadata": {},
     "output_type": "execute_result"
    }
   ],
   "source": [
    "#2.>\n",
    "list(map(lambda x:x**2,List(10)))"
   ]
  },
  {
   "cell_type": "code",
   "execution_count": 13,
   "id": "5b7dc524-9819-4d10-986d-306d0d59345b",
   "metadata": {},
   "outputs": [
    {
     "data": {
      "text/plain": [
       "('1', '2', '3', '4', '5', '6', '7', '8', '9', '10')"
      ]
     },
     "execution_count": 13,
     "metadata": {},
     "output_type": "execute_result"
    }
   ],
   "source": [
    "#3>\n",
    "tuple(map(lambda x:str(x),List(10)))"
   ]
  },
  {
   "cell_type": "code",
   "execution_count": 16,
   "id": "79556e57-baf8-41c6-9271-040ba614eb30",
   "metadata": {},
   "outputs": [
    {
     "data": {
      "text/plain": [
       "15511210043330985984000000"
      ]
     },
     "execution_count": 16,
     "metadata": {},
     "output_type": "execute_result"
    }
   ],
   "source": [
    "#4.>\n",
    "from functools import reduce\n",
    "reduce(lambda x,y:x*y,List(25))\n"
   ]
  },
  {
   "cell_type": "code",
   "execution_count": 20,
   "id": "5f00130b-21d7-430b-ae06-a936ca3e0cc1",
   "metadata": {},
   "outputs": [
    {
     "data": {
      "text/plain": [
       "[6, 60, 90, 120]"
      ]
     },
     "execution_count": 20,
     "metadata": {},
     "output_type": "execute_result"
    }
   ],
   "source": [
    "#5\n",
    "list(filter(lambda x:x%2==0 and x%3==0,[2, 3, 6, 9, 27, 60, 90, 120, 55, 46]))"
   ]
  },
  {
   "cell_type": "code",
   "execution_count": 28,
   "id": "e7a1b273-dc18-4a5d-8e53-d57849f68092",
   "metadata": {},
   "outputs": [
    {
     "data": {
      "text/plain": [
       "True"
      ]
     },
     "execution_count": 28,
     "metadata": {},
     "output_type": "execute_result"
    }
   ],
   "source": [
    "list(filter())"
   ]
  },
  {
   "cell_type": "code",
   "execution_count": null,
   "id": "afd88fb2-b944-428a-a92c-a8b9ad91a90c",
   "metadata": {},
   "outputs": [],
   "source": []
  }
 ],
 "metadata": {
  "kernelspec": {
   "display_name": "Python 3 (ipykernel)",
   "language": "python",
   "name": "python3"
  },
  "language_info": {
   "codemirror_mode": {
    "name": "ipython",
    "version": 3
   },
   "file_extension": ".py",
   "mimetype": "text/x-python",
   "name": "python",
   "nbconvert_exporter": "python",
   "pygments_lexer": "ipython3",
   "version": "3.10.8"
  }
 },
 "nbformat": 4,
 "nbformat_minor": 5
}
